{
 "cells": [
  {
   "cell_type": "code",
   "execution_count": 32,
   "id": "26922fab-e966-4a78-b696-ab6f235d628c",
   "metadata": {},
   "outputs": [
    {
     "ename": "AttributeError",
     "evalue": "module 'streamlit.type_util' has no attribute 'convert_mixed_columns_to_string'",
     "output_type": "error",
     "traceback": [
      "\u001b[0;31m---------------------------------------------------------------------------\u001b[0m",
      "\u001b[0;31mAttributeError\u001b[0m                            Traceback (most recent call last)",
      "File \u001b[0;32m~/Desktop/projects/Github_Repositories/streamlit_portfolio_job_search/app.py:160\u001b[0m, in \u001b[0;36m<module>\u001b[0;34m\u001b[0m\n\u001b[1;32m    158\u001b[0m with right_column:\n\u001b[1;32m    159\u001b[0m     st.subheader('Year - Bar Chart')\n\u001b[0;32m--> 160\u001b[0m     st.bar_chart(pd.DataFrame(df_jazz['Year'].value_counts()))\n\u001b[1;32m    161\u001b[0m     st.markdown('* **first feature:** I want see which Model Year Distribution')\n\u001b[1;32m    162\u001b[0m \n",
      "File \u001b[0;32m/opt/anaconda3/lib/python3.9/site-packages/streamlit/elements/dataframe_selector.py:363\u001b[0m, in \u001b[0;36mDataFrameSelectorMixin.bar_chart\u001b[0;34m(self, data, x, y, width, height, use_container_width)\u001b[0m\n\u001b[1;32m    306\u001b[0m \u001b[38;5;124;03m\"\"\"Display a bar chart.\u001b[39;00m\n\u001b[1;32m    307\u001b[0m \n\u001b[1;32m    308\u001b[0m \u001b[38;5;124;03mThis is just syntax-sugar around st.altair_chart. The main difference\u001b[39;00m\n\u001b[0;32m   (...)\u001b[0m\n\u001b[1;32m    359\u001b[0m \n\u001b[1;32m    360\u001b[0m \u001b[38;5;124;03m\"\"\"\u001b[39;00m\n\u001b[1;32m    362\u001b[0m \u001b[38;5;28;01mif\u001b[39;00m _use_arrow():\n\u001b[0;32m--> 363\u001b[0m     \u001b[38;5;28;01mreturn\u001b[39;00m \u001b[38;5;28;43mself\u001b[39;49m\u001b[38;5;241;43m.\u001b[39;49m\u001b[43mdg\u001b[49m\u001b[38;5;241;43m.\u001b[39;49m\u001b[43m_arrow_bar_chart\u001b[49m\u001b[43m(\u001b[49m\n\u001b[1;32m    364\u001b[0m \u001b[43m        \u001b[49m\u001b[43mdata\u001b[49m\u001b[43m,\u001b[49m\n\u001b[1;32m    365\u001b[0m \u001b[43m        \u001b[49m\u001b[43mx\u001b[49m\u001b[38;5;241;43m=\u001b[39;49m\u001b[43mx\u001b[49m\u001b[43m,\u001b[49m\n\u001b[1;32m    366\u001b[0m \u001b[43m        \u001b[49m\u001b[43my\u001b[49m\u001b[38;5;241;43m=\u001b[39;49m\u001b[43my\u001b[49m\u001b[43m,\u001b[49m\n\u001b[1;32m    367\u001b[0m \u001b[43m        \u001b[49m\u001b[43mwidth\u001b[49m\u001b[38;5;241;43m=\u001b[39;49m\u001b[43mwidth\u001b[49m\u001b[43m,\u001b[49m\n\u001b[1;32m    368\u001b[0m \u001b[43m        \u001b[49m\u001b[43mheight\u001b[49m\u001b[38;5;241;43m=\u001b[39;49m\u001b[43mheight\u001b[49m\u001b[43m,\u001b[49m\n\u001b[1;32m    369\u001b[0m \u001b[43m        \u001b[49m\u001b[43muse_container_width\u001b[49m\u001b[38;5;241;43m=\u001b[39;49m\u001b[43muse_container_width\u001b[49m\u001b[43m,\u001b[49m\n\u001b[1;32m    370\u001b[0m \u001b[43m    \u001b[49m\u001b[43m)\u001b[49m\n\u001b[1;32m    371\u001b[0m \u001b[38;5;28;01melse\u001b[39;00m:\n\u001b[1;32m    372\u001b[0m     \u001b[38;5;28;01mreturn\u001b[39;00m \u001b[38;5;28mself\u001b[39m\u001b[38;5;241m.\u001b[39mdg\u001b[38;5;241m.\u001b[39m_legacy_bar_chart(\n\u001b[1;32m    373\u001b[0m         data,\n\u001b[1;32m    374\u001b[0m         width\u001b[38;5;241m=\u001b[39mwidth,\n\u001b[1;32m    375\u001b[0m         height\u001b[38;5;241m=\u001b[39mheight,\n\u001b[1;32m    376\u001b[0m         use_container_width\u001b[38;5;241m=\u001b[39muse_container_width,\n\u001b[1;32m    377\u001b[0m     )\n",
      "File \u001b[0;32m/opt/anaconda3/lib/python3.9/site-packages/streamlit/elements/arrow_altair.py:265\u001b[0m, in \u001b[0;36mArrowAltairMixin._arrow_bar_chart\u001b[0;34m(self, data, x, y, width, height, use_container_width)\u001b[0m\n\u001b[1;32m    213\u001b[0m \u001b[38;5;124;03m\"\"\"Display a bar chart.\u001b[39;00m\n\u001b[1;32m    214\u001b[0m \n\u001b[1;32m    215\u001b[0m \u001b[38;5;124;03mThis is just syntax-sugar around st._arrow_altair_chart. The main difference\u001b[39;00m\n\u001b[0;32m   (...)\u001b[0m\n\u001b[1;32m    262\u001b[0m \n\u001b[1;32m    263\u001b[0m \u001b[38;5;124;03m\"\"\"\u001b[39;00m\n\u001b[1;32m    264\u001b[0m proto \u001b[38;5;241m=\u001b[39m ArrowVegaLiteChartProto()\n\u001b[0;32m--> 265\u001b[0m chart \u001b[38;5;241m=\u001b[39m \u001b[43m_generate_chart\u001b[49m\u001b[43m(\u001b[49m\u001b[43mChartType\u001b[49m\u001b[38;5;241;43m.\u001b[39;49m\u001b[43mBAR\u001b[49m\u001b[43m,\u001b[49m\u001b[43m \u001b[49m\u001b[43mdata\u001b[49m\u001b[43m,\u001b[49m\u001b[43m \u001b[49m\u001b[43mx\u001b[49m\u001b[43m,\u001b[49m\u001b[43m \u001b[49m\u001b[43my\u001b[49m\u001b[43m,\u001b[49m\u001b[43m \u001b[49m\u001b[43mwidth\u001b[49m\u001b[43m,\u001b[49m\u001b[43m \u001b[49m\u001b[43mheight\u001b[49m\u001b[43m)\u001b[49m\n\u001b[1;32m    266\u001b[0m marshall(proto, chart, use_container_width)\n\u001b[1;32m    267\u001b[0m last_index \u001b[38;5;241m=\u001b[39m last_index_for_melted_dataframes(data)\n",
      "File \u001b[0;32m/opt/anaconda3/lib/python3.9/site-packages/streamlit/elements/arrow_altair.py:486\u001b[0m, in \u001b[0;36m_generate_chart\u001b[0;34m(chart_type, data, x, y, width, height)\u001b[0m\n\u001b[1;32m    483\u001b[0m \u001b[38;5;28;01mif\u001b[39;00m \u001b[38;5;129;01mnot\u001b[39;00m \u001b[38;5;28misinstance\u001b[39m(data, pd\u001b[38;5;241m.\u001b[39mDataFrame):\n\u001b[1;32m    484\u001b[0m     data \u001b[38;5;241m=\u001b[39m type_util\u001b[38;5;241m.\u001b[39mconvert_anything_to_df(data)\n\u001b[0;32m--> 486\u001b[0m data, x_column, x_title, y_column, y_title, color_column, color_title \u001b[38;5;241m=\u001b[39m \u001b[43m_maybe_melt\u001b[49m\u001b[43m(\u001b[49m\n\u001b[1;32m    487\u001b[0m \u001b[43m    \u001b[49m\u001b[43mdata\u001b[49m\u001b[43m,\u001b[49m\u001b[43m \u001b[49m\u001b[43mx\u001b[49m\u001b[43m,\u001b[49m\u001b[43m \u001b[49m\u001b[43my\u001b[49m\n\u001b[1;32m    488\u001b[0m \u001b[43m\u001b[49m\u001b[43m)\u001b[49m\n\u001b[1;32m    490\u001b[0m opacity \u001b[38;5;241m=\u001b[39m \u001b[38;5;28;01mNone\u001b[39;00m\n\u001b[1;32m    491\u001b[0m \u001b[38;5;28;01mif\u001b[39;00m chart_type \u001b[38;5;241m==\u001b[39m ChartType\u001b[38;5;241m.\u001b[39mAREA \u001b[38;5;129;01mand\u001b[39;00m color_column:\n",
      "File \u001b[0;32m/opt/anaconda3/lib/python3.9/site-packages/streamlit/elements/arrow_altair.py:453\u001b[0m, in \u001b[0;36m_maybe_melt\u001b[0;34m(data_df, x, y)\u001b[0m\n\u001b[1;32m    451\u001b[0m     color_column \u001b[38;5;241m=\u001b[39m \u001b[38;5;124m\"\u001b[39m\u001b[38;5;124mvariable\u001b[39m\u001b[38;5;124m\"\u001b[39m\n\u001b[1;32m    452\u001b[0m     \u001b[38;5;66;03m# -> data will be melted into the value prop for y\u001b[39;00m\n\u001b[0;32m--> 453\u001b[0m     data_df \u001b[38;5;241m=\u001b[39m \u001b[43m_melt_data\u001b[49m\u001b[43m(\u001b[49m\u001b[43mdata_df\u001b[49m\u001b[43m,\u001b[49m\u001b[43m \u001b[49m\u001b[43mx_column\u001b[49m\u001b[43m,\u001b[49m\u001b[43m \u001b[49m\u001b[43my_column\u001b[49m\u001b[43m,\u001b[49m\u001b[43m \u001b[49m\u001b[43mcolor_column\u001b[49m\u001b[43m)\u001b[49m\n\u001b[1;32m    455\u001b[0m relevant_columns \u001b[38;5;241m=\u001b[39m []\n\u001b[1;32m    456\u001b[0m \u001b[38;5;28;01mif\u001b[39;00m x_column \u001b[38;5;129;01mand\u001b[39;00m x_column \u001b[38;5;129;01mnot\u001b[39;00m \u001b[38;5;129;01min\u001b[39;00m relevant_columns:\n",
      "File \u001b[0;32m/opt/anaconda3/lib/python3.9/site-packages/streamlit/elements/arrow_altair.py:379\u001b[0m, in \u001b[0;36m_melt_data\u001b[0;34m(data_df, x_column, y_column, color_column, value_columns)\u001b[0m\n\u001b[1;32m    373\u001b[0m     \u001b[38;5;28;01mraise\u001b[39;00m StreamlitAPIException(\n\u001b[1;32m    374\u001b[0m         \u001b[38;5;124m\"\u001b[39m\u001b[38;5;124mThe columns used for rendering the chart contain too many values with mixed types. Please select the columns manually via the y parameter.\u001b[39m\u001b[38;5;124m\"\u001b[39m\n\u001b[1;32m    375\u001b[0m     )\n\u001b[1;32m    377\u001b[0m \u001b[38;5;66;03m# Arrow has problems with object types after melting two different dtypes\u001b[39;00m\n\u001b[1;32m    378\u001b[0m \u001b[38;5;66;03m# pyarrow.lib.ArrowTypeError: \"Expected a <TYPE> object, got a object\"\u001b[39;00m\n\u001b[0;32m--> 379\u001b[0m data_df \u001b[38;5;241m=\u001b[39m \u001b[43mtype_util\u001b[49m\u001b[38;5;241;43m.\u001b[39;49m\u001b[43mconvert_mixed_columns_to_string\u001b[49m(\n\u001b[1;32m    380\u001b[0m     data_df, selected_columns\u001b[38;5;241m=\u001b[39m[x_column, color_column, y_column]\n\u001b[1;32m    381\u001b[0m )\n\u001b[1;32m    383\u001b[0m \u001b[38;5;28;01mreturn\u001b[39;00m data_df\n",
      "\u001b[0;31mAttributeError\u001b[0m: module 'streamlit.type_util' has no attribute 'convert_mixed_columns_to_string'"
     ]
    }
   ],
   "source": [
    "#import sys\n",
    "#!{sys.executable} -m pip install PIL\n",
    "\n",
    "\n",
    "%run '/Users/macbook/Desktop/projects/Github_Repositories/streamlit_portfolio_job_search/app.py'"
   ]
  },
  {
   "cell_type": "code",
   "execution_count": null,
   "id": "562bf486-ba2b-45fb-ae91-73557e4141c4",
   "metadata": {},
   "outputs": [],
   "source": []
  }
 ],
 "metadata": {
  "kernelspec": {
   "display_name": "Python 3 (ipykernel)",
   "language": "python",
   "name": "python3"
  },
  "language_info": {
   "codemirror_mode": {
    "name": "ipython",
    "version": 3
   },
   "file_extension": ".py",
   "mimetype": "text/x-python",
   "name": "python",
   "nbconvert_exporter": "python",
   "pygments_lexer": "ipython3",
   "version": "3.9.12"
  }
 },
 "nbformat": 4,
 "nbformat_minor": 5
}
